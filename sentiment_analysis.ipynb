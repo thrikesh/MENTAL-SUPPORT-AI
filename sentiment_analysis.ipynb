{
  "cells": [
    {
      "cell_type": "markdown",
      "metadata": {
        "id": "view-in-github",
        "colab_type": "text"
      },
      "source": [
        "<a href=\"https://colab.research.google.com/github/thrikesh/MENTAL-SUPPORT-AI/blob/main/sentiment_analysis.ipynb\" target=\"_parent\"><img src=\"https://colab.research.google.com/assets/colab-badge.svg\" alt=\"Open In Colab\"/></a>"
      ]
    },
    {
      "cell_type": "code",
      "execution_count": null,
      "metadata": {
        "id": "BcRdVK-4PGRQ"
      },
      "outputs": [],
      "source": [
        "import pandas as pd"
      ]
    },
    {
      "cell_type": "code",
      "execution_count": null,
      "metadata": {
        "colab": {
          "base_uri": "https://localhost:8080/"
        },
        "id": "dHgKHa6MddGi",
        "outputId": "3daabbc2-fbf7-4c92-dd5e-3bd38f546642"
      },
      "outputs": [
        {
          "data": {
            "text/plain": [
              "(38051, 12)"
            ]
          },
          "execution_count": 2,
          "metadata": {},
          "output_type": "execute_result"
        }
      ],
      "source": [
        "df = pd.read_csv('/content/clean_train_fi.csv',encoding='utf-8')\n",
        "df.shape"
      ]
    },
    {
      "cell_type": "code",
      "execution_count": null,
      "metadata": {
        "id": "e549GrGjRwez"
      },
      "outputs": [],
      "source": [
        "CONTRACTION_MAP = {\n",
        "\"ain't\": \"is not\",\n",
        "\"aren't\": \"are not\",\n",
        "\"can't\": \"cannot\",\n",
        "\"can't've\": \"cannot have\",\n",
        "\"'cause\": \"because\",\n",
        "\"could've\": \"could have\",\n",
        "\"couldn't\": \"could not\",\n",
        "\"couldn't've\": \"could not have\",\n",
        "\"didn't\": \"did not\",\n",
        "\"doesn't\": \"does not\",\n",
        "\"don't\": \"do not\",\n",
        "\"hadn't\": \"had not\",\n",
        "\"hadn't've\": \"had not have\",\n",
        "\"hasn't\": \"has not\",\n",
        "\"haven't\": \"have not\",\n",
        "\"he'd\": \"he would\",\n",
        "\"he'd've\": \"he would have\",\n",
        "\"he'll\": \"he will\",\n",
        "\"he'll've\": \"he he will have\",\n",
        "\"he's\": \"he is\",\n",
        "\"how'd\": \"how did\",\n",
        "\"how'd'y\": \"how do you\",\n",
        "\"how'll\": \"how will\",\n",
        "\"how's\": \"how is\",\n",
        "\"i'd\": \"i would\",\n",
        "\"i'd've\": \"i would have\",\n",
        "\"i'll\": \"i will\",\n",
        "\"i'll've\": \"i will have\",\n",
        "\"i'm\": \"i am\",\n",
        "\"i've\": \"i have\",\n",
        "\"isn't\": \"is not\",\n",
        "\"it'd\": \"it would\",\n",
        "\"it'd've\": \"it would have\",\n",
        "\"it'll\": \"it will\",\n",
        "\"it'll've\": \"it will have\",\n",
        "\"it's\": \"it is\",\n",
        "\"let's\": \"let us\",\n",
        "\"ma'am\": \"madam\",\n",
        "\"mayn't\": \"may not\",\n",
        "\"might've\": \"might have\",\n",
        "\"mightn't\": \"might not\",\n",
        "\"mightn't've\": \"might not have\",\n",
        "\"must've\": \"must have\",\n",
        "\"mustn't\": \"must not\",\n",
        "\"mustn't've\": \"must not have\",\n",
        "\"needn't\": \"need not\",\n",
        "\"needn't've\": \"need not have\",\n",
        "\"o'clock\": \"of the clock\",\n",
        "\"oughtn't\": \"ought not\",\n",
        "\"oughtn't've\": \"ought not have\",\n",
        "\"shan't\": \"shall not\",\n",
        "\"sha'n't\": \"shall not\",\n",
        "\"shan't've\": \"shall not have\",\n",
        "\"she'd\": \"she would\",\n",
        "\"she'd've\": \"she would have\",\n",
        "\"she'll\": \"she will\",\n",
        "\"she'll've\": \"she will have\",\n",
        "\"she's\": \"she is\",\n",
        "\"should've\": \"should have\",\n",
        "\"shouldn't\": \"should not\",\n",
        "\"shouldn't've\": \"should not have\",\n",
        "\"so've\": \"so have\",\n",
        "\"so's\": \"so as\",\n",
        "\"that'd\": \"that would\",\n",
        "\"that'd've\": \"that would have\",\n",
        "\"that's\": \"that is\",\n",
        "\"there'd\": \"there would\",\n",
        "\"there'd've\": \"there would have\",\n",
        "\"there's\": \"there is\",\n",
        "\"they'd\": \"they would\",\n",
        "\"they'd've\": \"they would have\",\n",
        "\"they'll\": \"they will\",\n",
        "\"they'll've\": \"they will have\",\n",
        "\"they're\": \"they are\",\n",
        "\"they've\": \"they have\",\n",
        "\"to've\": \"to have\",\n",
        "\"wasn't\": \"was not\",\n",
        "\"we'd\": \"we would\",\n",
        "\"we'd've\": \"we would have\",\n",
        "\"we'll\": \"we will\",\n",
        "\"we'll've\": \"we will have\",\n",
        "\"we're\": \"we are\",\n",
        "\"we've\": \"we have\",\n",
        "\"weren't\": \"were not\",\n",
        "\"what'll\": \"what will\",\n",
        "\"what'll've\": \"what will have\",\n",
        "\"what're\": \"what are\",\n",
        "\"what's\": \"what is\",\n",
        "\"what've\": \"what have\",\n",
        "\"when's\": \"when is\",\n",
        "\"when've\": \"when have\",\n",
        "\"where'd\": \"where did\",\n",
        "\"where's\": \"where is\",\n",
        "\"where've\": \"where have\",\n",
        "\"who'll\": \"who will\",\n",
        "\"who'll've\": \"who will have\",\n",
        "\"who's\": \"who is\",\n",
        "\"who've\": \"who have\",\n",
        "\"why's\": \"why is\",\n",
        "\"why've\": \"why have\",\n",
        "\"will've\": \"will have\",\n",
        "\"won't\": \"will not\",\n",
        "\"won't've\": \"will not have\",\n",
        "\"would've\": \"would have\",\n",
        "\"wouldn't\": \"would not\",\n",
        "\"wouldn't've\": \"would not have\",\n",
        "\"y'all\": \"you all\",\n",
        "\"y'all'd\": \"you all would\",\n",
        "\"y'all'd've\": \"you all would have\",\n",
        "\"y'all're\": \"you all are\",\n",
        "\"y'all've\": \"you all have\",\n",
        "\"you'd\": \"you would\",\n",
        "\"you'd've\": \"you would have\",\n",
        "\"you'll\": \"you will\",\n",
        "\"you'll've\": \"you will have\",\n",
        "\"you're\": \"you are\",\n",
        "\"you've\": \"you have\",\n",
        "}"
      ]
    },
    {
      "cell_type": "code",
      "execution_count": null,
      "metadata": {
        "id": "mmJ4cznoRxy6"
      },
      "outputs": [],
      "source": [
        "df[\"Tweets\"] = df[\"Tweets\"].replace(CONTRACTION_MAP, regex=True)"
      ]
    },
    {
      "cell_type": "code",
      "execution_count": null,
      "metadata": {
        "colab": {
          "base_uri": "https://localhost:8080/"
        },
        "id": "d-PvvtG8VrkN",
        "outputId": "f1c6be0c-182b-4231-be0c-1473b23ce27b"
      },
      "outputs": [
        {
          "name": "stderr",
          "output_type": "stream",
          "text": [
            "[nltk_data] Downloading package stopwords to /root/nltk_data...\n",
            "[nltk_data]   Package stopwords is already up-to-date!\n"
          ]
        },
        {
          "data": {
            "text/plain": [
              "True"
            ]
          },
          "execution_count": 5,
          "metadata": {},
          "output_type": "execute_result"
        }
      ],
      "source": [
        "import re\n",
        "import nltk\n",
        "from nltk.corpus import stopwords\n",
        "from nltk.stem import WordNetLemmatizer\n",
        "nltk.download('stopwords')"
      ]
    },
    {
      "cell_type": "code",
      "execution_count": null,
      "metadata": {
        "id": "Poy24W_CWNye"
      },
      "outputs": [],
      "source": [
        "df['Tweets'] = df['Tweets'].apply(str.lower)\n",
        "df['Tweets'] = df['Tweets'].apply(lambda x: re.sub(r'@\\w+', '@user', x))\n",
        "df['Tweets'] = df['Tweets'].apply(lambda x: re.sub(r'http\\S+', 'https', x))\n",
        "df['Tweets'] = df['Tweets'].apply(lambda x: re.sub(r'\\n\\n+|\\n', ' ', x))\n",
        "df['Tweets'] = df['Tweets'].apply(lambda x: re.sub(r'[^\\w@]+', ' ', x))\n",
        "df['Tweets'] = df['Tweets'].apply(lambda x: re.sub(r'\\s+', ' ', x))"
      ]
    },
    {
      "cell_type": "code",
      "execution_count": null,
      "metadata": {
        "colab": {
          "base_uri": "https://localhost:8080/"
        },
        "id": "dW3VHFDTcUNK",
        "outputId": "e28be5bf-5808-4fa6-f6da-c7e7c39349bb"
      },
      "outputs": [
        {
          "name": "stdout",
          "output_type": "stream",
          "text": [
            "Looking in indexes: https://pypi.org/simple, https://us-python.pkg.dev/colab-wheels/public/simple/\n",
            "Requirement already satisfied: wordninja in /usr/local/lib/python3.9/dist-packages (2.0.0)\n"
          ]
        }
      ],
      "source": [
        "pip install wordninja\n"
      ]
    },
    {
      "cell_type": "code",
      "execution_count": null,
      "metadata": {
        "id": "e5E5fFUAcYYi"
      },
      "outputs": [],
      "source": [
        "import wordninja\n",
        "def split_words(text):\n",
        "    words = wordninja.split(text)\n",
        "    return ' '.join(words)\n",
        "df['Tweets'] = df['Tweets'].apply(split_words)\n"
      ]
    },
    {
      "cell_type": "code",
      "execution_count": null,
      "metadata": {
        "id": "gNlGZlELWWGA"
      },
      "outputs": [],
      "source": [
        "stop = stopwords.words('english')\n",
        "df['Tweets_stop'] = df['Tweets'].apply(lambda x: ' '.join(x for x in x.split() if x not in stop))"
      ]
    },
    {
      "cell_type": "code",
      "execution_count": null,
      "metadata": {
        "id": "nPOSMjwPXkMk"
      },
      "outputs": [],
      "source": [
        "df['Tweets_tokenized'] = df['Tweets_stop'].apply(lambda x: re.split('\\W+', x))"
      ]
    },
    {
      "cell_type": "code",
      "execution_count": null,
      "metadata": {
        "colab": {
          "base_uri": "https://localhost:8080/"
        },
        "id": "qlxLezyFXowM",
        "outputId": "95bc3399-b31a-4507-fe4a-158b4ed59628"
      },
      "outputs": [
        {
          "name": "stderr",
          "output_type": "stream",
          "text": [
            "[nltk_data] Downloading package wordnet to /root/nltk_data...\n",
            "[nltk_data]   Package wordnet is already up-to-date!\n",
            "[nltk_data] Downloading package omw-1.4 to /root/nltk_data...\n",
            "[nltk_data]   Package omw-1.4 is already up-to-date!\n"
          ]
        },
        {
          "data": {
            "text/plain": [
              "True"
            ]
          },
          "execution_count": 11,
          "metadata": {},
          "output_type": "execute_result"
        }
      ],
      "source": [
        "#Lemmatisation\n",
        "nltk.download('wordnet')\n",
        "nltk.download('omw-1.4')"
      ]
    },
    {
      "cell_type": "code",
      "execution_count": null,
      "metadata": {
        "colab": {
          "base_uri": "https://localhost:8080/"
        },
        "id": "hfpZoz1rXvUM",
        "outputId": "7bf48a3f-4b4b-4160-862c-123f4ec4ce53"
      },
      "outputs": [
        {
          "name": "stderr",
          "output_type": "stream",
          "text": [
            "[nltk_data] Downloading package averaged_perceptron_tagger to\n",
            "[nltk_data]     /root/nltk_data...\n",
            "[nltk_data]   Package averaged_perceptron_tagger is already up-to-\n",
            "[nltk_data]       date!\n"
          ]
        },
        {
          "data": {
            "text/plain": [
              "True"
            ]
          },
          "execution_count": 12,
          "metadata": {},
          "output_type": "execute_result"
        }
      ],
      "source": [
        "from nltk import pos_tag\n",
        "from nltk.corpus import wordnet\n",
        "nltk.download('averaged_perceptron_tagger')"
      ]
    },
    {
      "cell_type": "code",
      "execution_count": null,
      "metadata": {
        "id": "EpWP-8UOX_-3"
      },
      "outputs": [],
      "source": [
        "wnl = WordNetLemmatizer()\n",
        "def get_wordnet(pos):\n",
        "    if pos.startswith('N'):\n",
        "        return wordnet.NOUN\n",
        "    elif pos.startswith('V'):\n",
        "        return wordnet.VERB\n",
        "    elif pos.startswith('J'):\n",
        "        return wordnet.ADJ\n",
        "    elif pos.startswith('R'):\n",
        "        return wordnet.ADV\n",
        "    else:\n",
        "        return wordnet.NOUN     #default to noun if no match\n",
        "\n",
        "\n",
        "# Define a function to tag and lemmatize a text string\n",
        "def lemmatizer(text):\n",
        "    pos_tags = pos_tag(text)\n",
        "    text = [wnl.lemmatize(word, pos = get_wordnet(pos)) for word, pos in pos_tags]\n",
        "    return text\n",
        "\n",
        "df['Tweets_lemmatized'] = df['Tweets_tokenized'].apply(lambda x: lemmatizer(x))"
      ]
    },
    {
      "cell_type": "code",
      "execution_count": null,
      "metadata": {
        "id": "8G5Ic4tBYc3Z"
      },
      "outputs": [],
      "source": [
        "df['Tokens'] = df['Tweets_lemmatized'].apply(lambda x: ' '.join(x))"
      ]
    },
    {
      "cell_type": "code",
      "execution_count": null,
      "metadata": {
        "colab": {
          "base_uri": "https://localhost:8080/"
        },
        "id": "QQT2D14Caoos",
        "outputId": "c3847aac-10e3-4329-99d2-826696454987"
      },
      "outputs": [
        {
          "name": "stdout",
          "output_type": "stream",
          "text": [
            "<class 'pandas.core.frame.DataFrame'>\n",
            "RangeIndex: 38051 entries, 0 to 38050\n",
            "Data columns (total 16 columns):\n",
            " #   Column             Non-Null Count  Dtype  \n",
            "---  ------             --------------  -----  \n",
            " 0   Id                 38051 non-null  float64\n",
            " 1   Date               38051 non-null  object \n",
            " 2   User               38051 non-null  object \n",
            " 3   Tweets             38051 non-null  object \n",
            " 4   Like count         38051 non-null  int64  \n",
            " 5   Retweet count      38051 non-null  int64  \n",
            " 6   Language           38051 non-null  object \n",
            " 7   Location           32614 non-null  object \n",
            " 8   Media              17114 non-null  object \n",
            " 9   Url                38051 non-null  object \n",
            " 10  textblob           38051 non-null  object \n",
            " 11  senti              38051 non-null  object \n",
            " 12  Tweets_stop        38051 non-null  object \n",
            " 13  Tweets_tokenized   38051 non-null  object \n",
            " 14  Tweets_lemmatized  38051 non-null  object \n",
            " 15  Tokens             38051 non-null  object \n",
            "dtypes: float64(1), int64(2), object(13)\n",
            "memory usage: 4.6+ MB\n"
          ]
        }
      ],
      "source": [
        "df.info()"
      ]
    },
    {
      "cell_type": "code",
      "execution_count": null,
      "metadata": {
        "colab": {
          "base_uri": "https://localhost:8080/"
        },
        "id": "TANdT9s_eh0l",
        "outputId": "6354602a-8c55-4d74-b767-dd666b85ef8d"
      },
      "outputs": [
        {
          "data": {
            "text/plain": [
              "(38051, 16)"
            ]
          },
          "execution_count": 16,
          "metadata": {},
          "output_type": "execute_result"
        }
      ],
      "source": [
        "df.shape"
      ]
    },
    {
      "cell_type": "code",
      "execution_count": null,
      "metadata": {
        "colab": {
          "base_uri": "https://localhost:8080/"
        },
        "id": "zTHN0a9Cehx_",
        "outputId": "569daecf-6f66-4ca5-937d-cadbd2c06fad"
      },
      "outputs": [
        {
          "data": {
            "text/plain": [
              "(38051, 16)"
            ]
          },
          "execution_count": 17,
          "metadata": {},
          "output_type": "execute_result"
        }
      ],
      "source": [
        "df = df[df['textblob']==df['senti']]\n",
        "df.shape"
      ]
    },
    {
      "cell_type": "code",
      "execution_count": null,
      "metadata": {
        "id": "UJ5r0iVfnDYA"
      },
      "outputs": [],
      "source": [
        "df['senti'] = df['senti'].replace({'Positive': 1, 'Negative': -1, 'Neutral': 0})"
      ]
    },
    {
      "cell_type": "code",
      "execution_count": null,
      "metadata": {
        "colab": {
          "base_uri": "https://localhost:8080/",
          "height": 721
        },
        "id": "TEyB3s49nDUi",
        "outputId": "fcb8263c-e65e-4c09-ade5-b8d557fba199"
      },
      "outputs": [
        {
          "data": {
            "text/html": [
              "\n",
              "  <div id=\"df-97004766-c32a-45c5-a777-51cef38657f3\">\n",
              "    <div class=\"colab-df-container\">\n",
              "      <div>\n",
              "<style scoped>\n",
              "    .dataframe tbody tr th:only-of-type {\n",
              "        vertical-align: middle;\n",
              "    }\n",
              "\n",
              "    .dataframe tbody tr th {\n",
              "        vertical-align: top;\n",
              "    }\n",
              "\n",
              "    .dataframe thead th {\n",
              "        text-align: right;\n",
              "    }\n",
              "</style>\n",
              "<table border=\"1\" class=\"dataframe\">\n",
              "  <thead>\n",
              "    <tr style=\"text-align: right;\">\n",
              "      <th></th>\n",
              "      <th>Id</th>\n",
              "      <th>Date</th>\n",
              "      <th>User</th>\n",
              "      <th>Tweets</th>\n",
              "      <th>Like count</th>\n",
              "      <th>Retweet count</th>\n",
              "      <th>Language</th>\n",
              "      <th>Location</th>\n",
              "      <th>Media</th>\n",
              "      <th>Url</th>\n",
              "      <th>textblob</th>\n",
              "      <th>senti</th>\n",
              "      <th>Tweets_stop</th>\n",
              "      <th>Tweets_tokenized</th>\n",
              "      <th>Tweets_lemmatized</th>\n",
              "      <th>Tokens</th>\n",
              "    </tr>\n",
              "  </thead>\n",
              "  <tbody>\n",
              "    <tr>\n",
              "      <th>0</th>\n",
              "      <td>1.476700e+18</td>\n",
              "      <td>30-12-2021</td>\n",
              "      <td>IntJObesity</td>\n",
              "      <td>neural network modelling reveals changes in di...</td>\n",
              "      <td>3</td>\n",
              "      <td>1</td>\n",
              "      <td>en</td>\n",
              "      <td>London, UK</td>\n",
              "      <td>NaN</td>\n",
              "      <td>https://twitter.com/IntJObesity/status/1476700...</td>\n",
              "      <td>Neutral</td>\n",
              "      <td>0</td>\n",
              "      <td>neural network modelling reveals changes direc...</td>\n",
              "      <td>[neural, network, modelling, reveals, changes,...</td>\n",
              "      <td>[neural, network, model, reveals, change, dire...</td>\n",
              "      <td>neural network model reveals change directiona...</td>\n",
              "    </tr>\n",
              "    <tr>\n",
              "      <th>1</th>\n",
              "      <td>1.476690e+18</td>\n",
              "      <td>30-12-2021</td>\n",
              "      <td>JAMASurgery</td>\n",
              "      <td>study suggests that obesity can be a modifiabl...</td>\n",
              "      <td>59</td>\n",
              "      <td>24</td>\n",
              "      <td>en</td>\n",
              "      <td>Chicago, IL</td>\n",
              "      <td>NaN</td>\n",
              "      <td>https://twitter.com/JAMASurgery/status/1476689...</td>\n",
              "      <td>Neutral</td>\n",
              "      <td>0</td>\n",
              "      <td>study suggests obesity modifiable risk factor ...</td>\n",
              "      <td>[study, suggests, obesity, modifiable, risk, f...</td>\n",
              "      <td>[study, suggest, obesity, modifiable, risk, fa...</td>\n",
              "      <td>study suggest obesity modifiable risk factor s...</td>\n",
              "    </tr>\n",
              "    <tr>\n",
              "      <th>2</th>\n",
              "      <td>1.476680e+18</td>\n",
              "      <td>30-12-2021</td>\n",
              "      <td>clearskypharma</td>\n",
              "      <td>or liga l generic or list at capsules is used ...</td>\n",
              "      <td>0</td>\n",
              "      <td>0</td>\n",
              "      <td>en</td>\n",
              "      <td>Singapore</td>\n",
              "      <td>[Photo(previewUrl='https://pbs.twimg.com/media...</td>\n",
              "      <td>https://twitter.com/clearskypharma/status/1476...</td>\n",
              "      <td>Neutral</td>\n",
              "      <td>0</td>\n",
              "      <td>liga l generic list capsules used obesity mana...</td>\n",
              "      <td>[liga, l, generic, list, capsules, used, obesi...</td>\n",
              "      <td>[liga, l, generic, list, capsule, use, obesity...</td>\n",
              "      <td>liga l generic list capsule use obesity manage...</td>\n",
              "    </tr>\n",
              "    <tr>\n",
              "      <th>3</th>\n",
              "      <td>1.476680e+18</td>\n",
              "      <td>30-12-2021</td>\n",
              "      <td>SarahRoMD</td>\n",
              "      <td>user thank you for this reminder dr sharpless ...</td>\n",
              "      <td>12</td>\n",
              "      <td>4</td>\n",
              "      <td>en</td>\n",
              "      <td>North Carolina, USA</td>\n",
              "      <td>NaN</td>\n",
              "      <td>https://twitter.com/SarahRoMD/status/147667686...</td>\n",
              "      <td>Positive</td>\n",
              "      <td>1</td>\n",
              "      <td>user thank reminder dr sharpless obesity clini...</td>\n",
              "      <td>[user, thank, reminder, dr, sharpless, obesity...</td>\n",
              "      <td>[user, thank, reminder, dr, sharpless, obesity...</td>\n",
              "      <td>user thank reminder dr sharpless obesity clini...</td>\n",
              "    </tr>\n",
              "    <tr>\n",
              "      <th>4</th>\n",
              "      <td>1.476660e+18</td>\n",
              "      <td>30-12-2021</td>\n",
              "      <td>NCIDirector</td>\n",
              "      <td>working on your new years resolutions make sur...</td>\n",
              "      <td>37</td>\n",
              "      <td>17</td>\n",
              "      <td>en</td>\n",
              "      <td>Bethesda, MD</td>\n",
              "      <td>[Photo(previewUrl='https://pbs.twimg.com/media...</td>\n",
              "      <td>https://twitter.com/NCIDirector/status/1476659...</td>\n",
              "      <td>Positive</td>\n",
              "      <td>1</td>\n",
              "      <td>working new years resolutions make sure eating...</td>\n",
              "      <td>[working, new, years, resolutions, make, sure,...</td>\n",
              "      <td>[work, new, year, resolution, make, sure, eat,...</td>\n",
              "      <td>work new year resolution make sure eat healthy...</td>\n",
              "    </tr>\n",
              "  </tbody>\n",
              "</table>\n",
              "</div>\n",
              "      <button class=\"colab-df-convert\" onclick=\"convertToInteractive('df-97004766-c32a-45c5-a777-51cef38657f3')\"\n",
              "              title=\"Convert this dataframe to an interactive table.\"\n",
              "              style=\"display:none;\">\n",
              "        \n",
              "  <svg xmlns=\"http://www.w3.org/2000/svg\" height=\"24px\"viewBox=\"0 0 24 24\"\n",
              "       width=\"24px\">\n",
              "    <path d=\"M0 0h24v24H0V0z\" fill=\"none\"/>\n",
              "    <path d=\"M18.56 5.44l.94 2.06.94-2.06 2.06-.94-2.06-.94-.94-2.06-.94 2.06-2.06.94zm-11 1L8.5 8.5l.94-2.06 2.06-.94-2.06-.94L8.5 2.5l-.94 2.06-2.06.94zm10 10l.94 2.06.94-2.06 2.06-.94-2.06-.94-.94-2.06-.94 2.06-2.06.94z\"/><path d=\"M17.41 7.96l-1.37-1.37c-.4-.4-.92-.59-1.43-.59-.52 0-1.04.2-1.43.59L10.3 9.45l-7.72 7.72c-.78.78-.78 2.05 0 2.83L4 21.41c.39.39.9.59 1.41.59.51 0 1.02-.2 1.41-.59l7.78-7.78 2.81-2.81c.8-.78.8-2.07 0-2.86zM5.41 20L4 18.59l7.72-7.72 1.47 1.35L5.41 20z\"/>\n",
              "  </svg>\n",
              "      </button>\n",
              "      \n",
              "  <style>\n",
              "    .colab-df-container {\n",
              "      display:flex;\n",
              "      flex-wrap:wrap;\n",
              "      gap: 12px;\n",
              "    }\n",
              "\n",
              "    .colab-df-convert {\n",
              "      background-color: #E8F0FE;\n",
              "      border: none;\n",
              "      border-radius: 50%;\n",
              "      cursor: pointer;\n",
              "      display: none;\n",
              "      fill: #1967D2;\n",
              "      height: 32px;\n",
              "      padding: 0 0 0 0;\n",
              "      width: 32px;\n",
              "    }\n",
              "\n",
              "    .colab-df-convert:hover {\n",
              "      background-color: #E2EBFA;\n",
              "      box-shadow: 0px 1px 2px rgba(60, 64, 67, 0.3), 0px 1px 3px 1px rgba(60, 64, 67, 0.15);\n",
              "      fill: #174EA6;\n",
              "    }\n",
              "\n",
              "    [theme=dark] .colab-df-convert {\n",
              "      background-color: #3B4455;\n",
              "      fill: #D2E3FC;\n",
              "    }\n",
              "\n",
              "    [theme=dark] .colab-df-convert:hover {\n",
              "      background-color: #434B5C;\n",
              "      box-shadow: 0px 1px 3px 1px rgba(0, 0, 0, 0.15);\n",
              "      filter: drop-shadow(0px 1px 2px rgba(0, 0, 0, 0.3));\n",
              "      fill: #FFFFFF;\n",
              "    }\n",
              "  </style>\n",
              "\n",
              "      <script>\n",
              "        const buttonEl =\n",
              "          document.querySelector('#df-97004766-c32a-45c5-a777-51cef38657f3 button.colab-df-convert');\n",
              "        buttonEl.style.display =\n",
              "          google.colab.kernel.accessAllowed ? 'block' : 'none';\n",
              "\n",
              "        async function convertToInteractive(key) {\n",
              "          const element = document.querySelector('#df-97004766-c32a-45c5-a777-51cef38657f3');\n",
              "          const dataTable =\n",
              "            await google.colab.kernel.invokeFunction('convertToInteractive',\n",
              "                                                     [key], {});\n",
              "          if (!dataTable) return;\n",
              "\n",
              "          const docLinkHtml = 'Like what you see? Visit the ' +\n",
              "            '<a target=\"_blank\" href=https://colab.research.google.com/notebooks/data_table.ipynb>data table notebook</a>'\n",
              "            + ' to learn more about interactive tables.';\n",
              "          element.innerHTML = '';\n",
              "          dataTable['output_type'] = 'display_data';\n",
              "          await google.colab.output.renderOutput(dataTable, element);\n",
              "          const docLink = document.createElement('div');\n",
              "          docLink.innerHTML = docLinkHtml;\n",
              "          element.appendChild(docLink);\n",
              "        }\n",
              "      </script>\n",
              "    </div>\n",
              "  </div>\n",
              "  "
            ],
            "text/plain": [
              "             Id        Date            User  \\\n",
              "0  1.476700e+18  30-12-2021     IntJObesity   \n",
              "1  1.476690e+18  30-12-2021     JAMASurgery   \n",
              "2  1.476680e+18  30-12-2021  clearskypharma   \n",
              "3  1.476680e+18  30-12-2021       SarahRoMD   \n",
              "4  1.476660e+18  30-12-2021     NCIDirector   \n",
              "\n",
              "                                              Tweets  Like count  \\\n",
              "0  neural network modelling reveals changes in di...           3   \n",
              "1  study suggests that obesity can be a modifiabl...          59   \n",
              "2  or liga l generic or list at capsules is used ...           0   \n",
              "3  user thank you for this reminder dr sharpless ...          12   \n",
              "4  working on your new years resolutions make sur...          37   \n",
              "\n",
              "   Retweet count Language             Location  \\\n",
              "0              1       en           London, UK   \n",
              "1             24       en          Chicago, IL   \n",
              "2              0       en            Singapore   \n",
              "3              4       en  North Carolina, USA   \n",
              "4             17       en         Bethesda, MD   \n",
              "\n",
              "                                               Media  \\\n",
              "0                                                NaN   \n",
              "1                                                NaN   \n",
              "2  [Photo(previewUrl='https://pbs.twimg.com/media...   \n",
              "3                                                NaN   \n",
              "4  [Photo(previewUrl='https://pbs.twimg.com/media...   \n",
              "\n",
              "                                                 Url  textblob  senti  \\\n",
              "0  https://twitter.com/IntJObesity/status/1476700...   Neutral      0   \n",
              "1  https://twitter.com/JAMASurgery/status/1476689...   Neutral      0   \n",
              "2  https://twitter.com/clearskypharma/status/1476...   Neutral      0   \n",
              "3  https://twitter.com/SarahRoMD/status/147667686...  Positive      1   \n",
              "4  https://twitter.com/NCIDirector/status/1476659...  Positive      1   \n",
              "\n",
              "                                         Tweets_stop  \\\n",
              "0  neural network modelling reveals changes direc...   \n",
              "1  study suggests obesity modifiable risk factor ...   \n",
              "2  liga l generic list capsules used obesity mana...   \n",
              "3  user thank reminder dr sharpless obesity clini...   \n",
              "4  working new years resolutions make sure eating...   \n",
              "\n",
              "                                    Tweets_tokenized  \\\n",
              "0  [neural, network, modelling, reveals, changes,...   \n",
              "1  [study, suggests, obesity, modifiable, risk, f...   \n",
              "2  [liga, l, generic, list, capsules, used, obesi...   \n",
              "3  [user, thank, reminder, dr, sharpless, obesity...   \n",
              "4  [working, new, years, resolutions, make, sure,...   \n",
              "\n",
              "                                   Tweets_lemmatized  \\\n",
              "0  [neural, network, model, reveals, change, dire...   \n",
              "1  [study, suggest, obesity, modifiable, risk, fa...   \n",
              "2  [liga, l, generic, list, capsule, use, obesity...   \n",
              "3  [user, thank, reminder, dr, sharpless, obesity...   \n",
              "4  [work, new, year, resolution, make, sure, eat,...   \n",
              "\n",
              "                                              Tokens  \n",
              "0  neural network model reveals change directiona...  \n",
              "1  study suggest obesity modifiable risk factor s...  \n",
              "2  liga l generic list capsule use obesity manage...  \n",
              "3  user thank reminder dr sharpless obesity clini...  \n",
              "4  work new year resolution make sure eat healthy...  "
            ]
          },
          "execution_count": 19,
          "metadata": {},
          "output_type": "execute_result"
        }
      ],
      "source": [
        "df.head()"
      ]
    },
    {
      "cell_type": "code",
      "execution_count": null,
      "metadata": {
        "id": "bIiS51cenDLA"
      },
      "outputs": [],
      "source": [
        "from sklearn.feature_extraction.text import TfidfVectorizer\n",
        "from sklearn.svm import SVC\n",
        "from sklearn.metrics import accuracy_score\n",
        "from sklearn.metrics import f1_score\n",
        "from sklearn.model_selection import train_test_split\n",
        "from sklearn.naive_bayes import MultinomialNB"
      ]
    },
    {
      "cell_type": "code",
      "execution_count": null,
      "metadata": {
        "colab": {
          "base_uri": "https://localhost:8080/",
          "height": 206
        },
        "id": "naYs15K7qo1Z",
        "outputId": "62817012-c0a2-483d-d800-5e0c2d582803"
      },
      "outputs": [
        {
          "data": {
            "text/html": [
              "\n",
              "  <div id=\"df-fcb0cc83-d340-40f2-9172-67e154138f4c\">\n",
              "    <div class=\"colab-df-container\">\n",
              "      <div>\n",
              "<style scoped>\n",
              "    .dataframe tbody tr th:only-of-type {\n",
              "        vertical-align: middle;\n",
              "    }\n",
              "\n",
              "    .dataframe tbody tr th {\n",
              "        vertical-align: top;\n",
              "    }\n",
              "\n",
              "    .dataframe thead th {\n",
              "        text-align: right;\n",
              "    }\n",
              "</style>\n",
              "<table border=\"1\" class=\"dataframe\">\n",
              "  <thead>\n",
              "    <tr style=\"text-align: right;\">\n",
              "      <th></th>\n",
              "      <th>Tokens</th>\n",
              "      <th>senti</th>\n",
              "    </tr>\n",
              "  </thead>\n",
              "  <tbody>\n",
              "    <tr>\n",
              "      <th>0</th>\n",
              "      <td>neural network model reveals change directiona...</td>\n",
              "      <td>0</td>\n",
              "    </tr>\n",
              "    <tr>\n",
              "      <th>1</th>\n",
              "      <td>study suggest obesity modifiable risk factor s...</td>\n",
              "      <td>0</td>\n",
              "    </tr>\n",
              "    <tr>\n",
              "      <th>2</th>\n",
              "      <td>liga l generic list capsule use obesity manage...</td>\n",
              "      <td>0</td>\n",
              "    </tr>\n",
              "    <tr>\n",
              "      <th>3</th>\n",
              "      <td>user thank reminder dr sharpless obesity clini...</td>\n",
              "      <td>1</td>\n",
              "    </tr>\n",
              "    <tr>\n",
              "      <th>4</th>\n",
              "      <td>work new year resolution make sure eat healthy...</td>\n",
              "      <td>1</td>\n",
              "    </tr>\n",
              "  </tbody>\n",
              "</table>\n",
              "</div>\n",
              "      <button class=\"colab-df-convert\" onclick=\"convertToInteractive('df-fcb0cc83-d340-40f2-9172-67e154138f4c')\"\n",
              "              title=\"Convert this dataframe to an interactive table.\"\n",
              "              style=\"display:none;\">\n",
              "        \n",
              "  <svg xmlns=\"http://www.w3.org/2000/svg\" height=\"24px\"viewBox=\"0 0 24 24\"\n",
              "       width=\"24px\">\n",
              "    <path d=\"M0 0h24v24H0V0z\" fill=\"none\"/>\n",
              "    <path d=\"M18.56 5.44l.94 2.06.94-2.06 2.06-.94-2.06-.94-.94-2.06-.94 2.06-2.06.94zm-11 1L8.5 8.5l.94-2.06 2.06-.94-2.06-.94L8.5 2.5l-.94 2.06-2.06.94zm10 10l.94 2.06.94-2.06 2.06-.94-2.06-.94-.94-2.06-.94 2.06-2.06.94z\"/><path d=\"M17.41 7.96l-1.37-1.37c-.4-.4-.92-.59-1.43-.59-.52 0-1.04.2-1.43.59L10.3 9.45l-7.72 7.72c-.78.78-.78 2.05 0 2.83L4 21.41c.39.39.9.59 1.41.59.51 0 1.02-.2 1.41-.59l7.78-7.78 2.81-2.81c.8-.78.8-2.07 0-2.86zM5.41 20L4 18.59l7.72-7.72 1.47 1.35L5.41 20z\"/>\n",
              "  </svg>\n",
              "      </button>\n",
              "      \n",
              "  <style>\n",
              "    .colab-df-container {\n",
              "      display:flex;\n",
              "      flex-wrap:wrap;\n",
              "      gap: 12px;\n",
              "    }\n",
              "\n",
              "    .colab-df-convert {\n",
              "      background-color: #E8F0FE;\n",
              "      border: none;\n",
              "      border-radius: 50%;\n",
              "      cursor: pointer;\n",
              "      display: none;\n",
              "      fill: #1967D2;\n",
              "      height: 32px;\n",
              "      padding: 0 0 0 0;\n",
              "      width: 32px;\n",
              "    }\n",
              "\n",
              "    .colab-df-convert:hover {\n",
              "      background-color: #E2EBFA;\n",
              "      box-shadow: 0px 1px 2px rgba(60, 64, 67, 0.3), 0px 1px 3px 1px rgba(60, 64, 67, 0.15);\n",
              "      fill: #174EA6;\n",
              "    }\n",
              "\n",
              "    [theme=dark] .colab-df-convert {\n",
              "      background-color: #3B4455;\n",
              "      fill: #D2E3FC;\n",
              "    }\n",
              "\n",
              "    [theme=dark] .colab-df-convert:hover {\n",
              "      background-color: #434B5C;\n",
              "      box-shadow: 0px 1px 3px 1px rgba(0, 0, 0, 0.15);\n",
              "      filter: drop-shadow(0px 1px 2px rgba(0, 0, 0, 0.3));\n",
              "      fill: #FFFFFF;\n",
              "    }\n",
              "  </style>\n",
              "\n",
              "      <script>\n",
              "        const buttonEl =\n",
              "          document.querySelector('#df-fcb0cc83-d340-40f2-9172-67e154138f4c button.colab-df-convert');\n",
              "        buttonEl.style.display =\n",
              "          google.colab.kernel.accessAllowed ? 'block' : 'none';\n",
              "\n",
              "        async function convertToInteractive(key) {\n",
              "          const element = document.querySelector('#df-fcb0cc83-d340-40f2-9172-67e154138f4c');\n",
              "          const dataTable =\n",
              "            await google.colab.kernel.invokeFunction('convertToInteractive',\n",
              "                                                     [key], {});\n",
              "          if (!dataTable) return;\n",
              "\n",
              "          const docLinkHtml = 'Like what you see? Visit the ' +\n",
              "            '<a target=\"_blank\" href=https://colab.research.google.com/notebooks/data_table.ipynb>data table notebook</a>'\n",
              "            + ' to learn more about interactive tables.';\n",
              "          element.innerHTML = '';\n",
              "          dataTable['output_type'] = 'display_data';\n",
              "          await google.colab.output.renderOutput(dataTable, element);\n",
              "          const docLink = document.createElement('div');\n",
              "          docLink.innerHTML = docLinkHtml;\n",
              "          element.appendChild(docLink);\n",
              "        }\n",
              "      </script>\n",
              "    </div>\n",
              "  </div>\n",
              "  "
            ],
            "text/plain": [
              "                                              Tokens  senti\n",
              "0  neural network model reveals change directiona...      0\n",
              "1  study suggest obesity modifiable risk factor s...      0\n",
              "2  liga l generic list capsule use obesity manage...      0\n",
              "3  user thank reminder dr sharpless obesity clini...      1\n",
              "4  work new year resolution make sure eat healthy...      1"
            ]
          },
          "execution_count": 21,
          "metadata": {},
          "output_type": "execute_result"
        }
      ],
      "source": [
        "df_new = df.loc[:, ['Tokens','senti']]\n",
        "df_new.head()"
      ]
    },
    {
      "cell_type": "code",
      "execution_count": null,
      "metadata": {
        "id": "iZJasdWUrbeY"
      },
      "outputs": [],
      "source": [
        "X = df_new['Tokens'].values\n",
        "y = df_new['senti'].values"
      ]
    },
    {
      "cell_type": "code",
      "execution_count": null,
      "metadata": {
        "id": "GZ_bQrm7nq4r"
      },
      "outputs": [],
      "source": [
        "X_train, X_test, y_train, y_test = train_test_split(X, y, test_size = 0.2, random_state = 42)"
      ]
    },
    {
      "cell_type": "code",
      "execution_count": null,
      "metadata": {
        "colab": {
          "base_uri": "https://localhost:8080/"
        },
        "id": "mlUbMxVykYzB",
        "outputId": "f384a490-9fdc-42a1-9ee1-0d9f9da6b691"
      },
      "outputs": [
        {
          "data": {
            "text/plain": [
              "(30440,)"
            ]
          },
          "execution_count": 24,
          "metadata": {},
          "output_type": "execute_result"
        }
      ],
      "source": [
        "\n",
        "X_train.shape"
      ]
    },
    {
      "cell_type": "code",
      "execution_count": null,
      "metadata": {
        "id": "jhHaBMQIr_Xi"
      },
      "outputs": [],
      "source": [
        "# Create a TF-IDF vectorizer object\n",
        "vectorizer = TfidfVectorizer()\n",
        "\n",
        "# Fit the vectorizer on the training data and transform the training and testing data\n",
        "X_train = vectorizer.fit_transform(X_train)\n",
        "X_test = vectorizer.transform(X_test)"
      ]
    },
    {
      "cell_type": "code",
      "execution_count": null,
      "metadata": {
        "colab": {
          "base_uri": "https://localhost:8080/"
        },
        "id": "vIgTB2OHuvo_",
        "outputId": "6f93a227-f556-45ff-8be6-f80464b61ba7"
      },
      "outputs": [
        {
          "name": "stdout",
          "output_type": "stream",
          "text": [
            "Accuracy: 0.9353567205360662\n",
            "F1 score:  0.9352843588050811\n"
          ]
        }
      ],
      "source": [
        "svm = SVC(kernel='linear')\n",
        "svm.fit(X_train, y_train)\n",
        "\n",
        "# Predict the labels of the testing data\n",
        "y_pred = svm.predict(X_test)\n",
        "\n",
        "# Calculate the accuracy of the classifier\n",
        "accuracy = accuracy_score(y_test, y_pred)\n",
        "print(\"Accuracy:\", accuracy)\n",
        "f1score = f1_score(y_test, y_pred, average='weighted')\n",
        "print(\"F1 score: \", f1score)"
      ]
    },
    {
      "cell_type": "code",
      "execution_count": null,
      "metadata": {
        "colab": {
          "base_uri": "https://localhost:8080/"
        },
        "id": "2dIRIc3quvlb",
        "outputId": "02052718-d124-4e15-c77e-979fb4f4a62d"
      },
      "outputs": [
        {
          "name": "stdout",
          "output_type": "stream",
          "text": [
            "Accuracy: 0.8097490474313493\n",
            "F1 score:  0.8081202694940852\n"
          ]
        }
      ],
      "source": [
        "\n",
        "nb = MultinomialNB()\n",
        "nb.fit(X_train, y_train)\n",
        "\n",
        "# Predict the labels of the testing data\n",
        "y_pred = nb.predict(X_test)\n",
        "\n",
        "# Calculate the accuracy of the classifier\n",
        "accuracy = accuracy_score(y_test, y_pred)\n",
        "print(\"Accuracy:\", accuracy)\n",
        "f1score = f1_score(y_test, y_pred, average='weighted')\n",
        "print(\"F1 score: \", f1score)"
      ]
    },
    {
      "cell_type": "code",
      "execution_count": null,
      "metadata": {
        "id": "QLkBx41mkrpF"
      },
      "outputs": [],
      "source": [
        "X_train, X_test, y_train, y_test = train_test_split(X, y, test_size = 0.2, random_state = 42)"
      ]
    },
    {
      "cell_type": "code",
      "execution_count": null,
      "metadata": {
        "colab": {
          "base_uri": "https://localhost:8080/"
        },
        "id": "7Ewf1VHTXSo9",
        "outputId": "08ae819f-1e63-483b-fcd0-5cec1b32e4a9"
      },
      "outputs": [
        {
          "data": {
            "text/plain": [
              "(30440,)"
            ]
          },
          "execution_count": 29,
          "metadata": {},
          "output_type": "execute_result"
        }
      ],
      "source": [
        "X_train.shape"
      ]
    },
    {
      "cell_type": "code",
      "execution_count": null,
      "metadata": {
        "colab": {
          "base_uri": "https://localhost:8080/"
        },
        "id": "TwOFoL2nSDPg",
        "outputId": "6a9bbdfa-e606-4afd-b696-64576d555181"
      },
      "outputs": [
        {
          "data": {
            "text/plain": [
              "7611"
            ]
          },
          "execution_count": 30,
          "metadata": {},
          "output_type": "execute_result"
        }
      ],
      "source": [
        "len(X_test)"
      ]
    },
    {
      "cell_type": "code",
      "execution_count": null,
      "metadata": {
        "colab": {
          "base_uri": "https://localhost:8080/"
        },
        "id": "_WhkASP3jR1c",
        "outputId": "debe24b5-6fe0-45a8-b79c-88d8066395fb"
      },
      "outputs": [
        {
          "data": {
            "text/plain": [
              "(30440,)"
            ]
          },
          "execution_count": 31,
          "metadata": {},
          "output_type": "execute_result"
        }
      ],
      "source": [
        "y_train.shape"
      ]
    },
    {
      "cell_type": "code",
      "execution_count": null,
      "metadata": {
        "colab": {
          "base_uri": "https://localhost:8080/"
        },
        "id": "zrSneIhQjT6h",
        "outputId": "961eea43-23cf-4dee-bdf9-7c410a38e4e2"
      },
      "outputs": [
        {
          "data": {
            "text/plain": [
              "(7611,)"
            ]
          },
          "execution_count": 32,
          "metadata": {},
          "output_type": "execute_result"
        }
      ],
      "source": [
        "y_test.shape"
      ]
    },
    {
      "cell_type": "code",
      "execution_count": null,
      "metadata": {
        "colab": {
          "base_uri": "https://localhost:8080/"
        },
        "id": "ZEuKqB2cnyT4",
        "outputId": "1aaec195-597c-4c4e-90f4-ea02d151f0c6"
      },
      "outputs": [
        {
          "name": "stdout",
          "output_type": "stream",
          "text": [
            "Looking in indexes: https://pypi.org/simple, https://us-python.pkg.dev/colab-wheels/public/simple/\n",
            "Requirement already satisfied: keras in /usr/local/lib/python3.9/dist-packages (2.12.0)\n"
          ]
        }
      ],
      "source": [
        " pip install keras"
      ]
    },
    {
      "cell_type": "code",
      "execution_count": null,
      "metadata": {
        "id": "LHTxrpqPpkVo"
      },
      "outputs": [],
      "source": [
        "from tensorflow.keras.preprocessing.sequence import pad_sequences"
      ]
    },
    {
      "cell_type": "code",
      "execution_count": null,
      "metadata": {
        "id": "ZzMj0J0ToNUE"
      },
      "outputs": [],
      "source": []
    },
    {
      "cell_type": "code",
      "execution_count": null,
      "metadata": {
        "id": "YgWozIyFnwCm"
      },
      "outputs": [],
      "source": [
        "from keras.models import Sequential\n",
        "from keras.layers import LSTM, Dense, Embedding, Dropout\n",
        "from keras.preprocessing.text import Tokenizer\n"
      ]
    },
    {
      "cell_type": "code",
      "execution_count": null,
      "metadata": {
        "id": "xDX0eO4FlmAY"
      },
      "outputs": [],
      "source": [
        "# Tokenize the text\n",
        "tokenizer = Tokenizer()\n",
        "tokenizer.fit_on_texts(X_train)\n",
        "\n",
        "# Convert text sequences to integer sequences\n",
        "X_train_seq = tokenizer.texts_to_sequences(X_train)\n",
        "X_test_seq = tokenizer.texts_to_sequences(X_test)\n",
        "\n",
        "# Pad the sequences\n",
        "max_seq_length = 500  # maximum sequence length\n",
        "X_train_pad = pad_sequences(X_train_seq, maxlen=max_seq_length)\n",
        "X_test_pad = pad_sequences(X_test_seq, maxlen=max_seq_length)\n",
        "\n",
        "# Define the model architecture\n",
        "model = Sequential()\n",
        "model.add(Embedding(input_dim=len(tokenizer.word_index) + 1, output_dim=128, input_length=max_seq_length))\n",
        "model.add(LSTM(units=64, return_sequences=True))\n",
        "model.add(Dropout(0.2))\n",
        "model.add(LSTM(units=32))\n",
        "model.add(Dropout(0.2))\n",
        "model.add(Dense(units=1, activation='sigmoid'))\n"
      ]
    },
    {
      "cell_type": "code",
      "execution_count": null,
      "metadata": {
        "colab": {
          "base_uri": "https://localhost:8080/"
        },
        "id": "DpDUYxf9tUcP",
        "outputId": "493ece49-ba28-4ea2-93db-7c295ae2d450"
      },
      "outputs": [
        {
          "name": "stdout",
          "output_type": "stream",
          "text": [
            "Epoch 1/2\n",
            "476/476 [==============================] - 569s 1s/step - loss: -2.0567 - accuracy: 0.6635 - val_loss: -3.9992 - val_accuracy: 0.7148\n",
            "Epoch 2/2\n",
            "476/476 [==============================] - 510s 1s/step - loss: -5.9466 - accuracy: 0.7298 - val_loss: -7.1527 - val_accuracy: 0.7063\n"
          ]
        },
        {
          "data": {
            "text/plain": [
              "<keras.callbacks.History at 0x7f85b5bcef10>"
            ]
          },
          "execution_count": 37,
          "metadata": {},
          "output_type": "execute_result"
        }
      ],
      "source": [
        "\n",
        "# Compile the model\n",
        "model.compile(optimizer='adam', loss='binary_crossentropy', metrics=['accuracy'])\n",
        "\n",
        "# Train the model\n",
        "model.fit(X_train_pad, y_train, epochs=2, batch_size=64, validation_data=(X_test_pad, y_test))\n"
      ]
    },
    {
      "cell_type": "code",
      "execution_count": null,
      "metadata": {
        "colab": {
          "base_uri": "https://localhost:8080/"
        },
        "id": "7Jeq7qK-Izsn",
        "outputId": "434cd96c-a3f1-4225-d33b-92f4e4b110c7"
      },
      "outputs": [
        {
          "name": "stdout",
          "output_type": "stream",
          "text": [
            "F1 score:  0.8081202694940852\n"
          ]
        }
      ],
      "source": [
        "f1score = f1_score(y_test, y_pred, average='weighted')\n",
        "print(\"F1 score: \", f1score)"
      ]
    },
    {
      "cell_type": "code",
      "execution_count": null,
      "metadata": {
        "id": "5U_yLKJfl56B"
      },
      "outputs": [],
      "source": [
        "from sklearn.feature_extraction.text import CountVectorizer\n",
        "from sklearn.ensemble import RandomForestClassifier\n",
        "from sklearn.metrics import accuracy_score"
      ]
    },
    {
      "cell_type": "code",
      "execution_count": null,
      "metadata": {
        "id": "gPGJYloII5h4"
      },
      "outputs": [],
      "source": []
    },
    {
      "cell_type": "code",
      "execution_count": null,
      "metadata": {
        "id": "2QxS-tI2lXQm"
      },
      "outputs": [],
      "source": [
        "vectorizer = CountVectorizer(stop_words='english')\n"
      ]
    },
    {
      "cell_type": "code",
      "execution_count": null,
      "metadata": {
        "id": "_iO8hfF1rIX4"
      },
      "outputs": [],
      "source": [
        "X_train = vectorizer.fit_transform(X_train)\n",
        "\n",
        "# Transform the test data\n",
        "X_test = vectorizer.transform(X_test)\n",
        "\n",
        "# Initialize the Random Forest classifier\n",
        "rf = RandomForestClassifier(n_estimators=100, random_state=42)\n",
        "\n",
        "# Train the classifier\n",
        "rf.fit(X_train, y_train)\n",
        "\n",
        "# Make predictions on the test data\n",
        "y_pred = rf.predict(X_test)"
      ]
    },
    {
      "cell_type": "code",
      "execution_count": null,
      "metadata": {
        "colab": {
          "base_uri": "https://localhost:8080/"
        },
        "id": "N-fFc5NCrOd4",
        "outputId": "fa0afc8b-46d1-4743-a83d-96c6891497cf"
      },
      "outputs": [
        {
          "name": "stdout",
          "output_type": "stream",
          "text": [
            "Accuracy: 0.8977795296281698\n",
            "F1 score:  0.8967506044176398\n"
          ]
        }
      ],
      "source": [
        "accuracy = accuracy_score(y_test, y_pred)\n",
        "print(\"Accuracy:\", accuracy)\n",
        "f1score = f1_score(y_test, y_pred, average='weighted')\n",
        "print(\"F1 score: \", f1score)"
      ]
    },
    {
      "cell_type": "code",
      "execution_count": null,
      "metadata": {
        "id": "LLJObPYHC7ku"
      },
      "outputs": [],
      "source": [
        "\n"
      ]
    },
    {
      "cell_type": "code",
      "execution_count": null,
      "metadata": {
        "colab": {
          "base_uri": "https://localhost:8080/"
        },
        "id": "sL8xyMQfQmDq",
        "outputId": "7a0e5a9e-3047-44d9-e333-7fcf1f855b19"
      },
      "outputs": [
        {
          "data": {
            "image/png": "[encoded data removed]",
            "text/plain": [
              "<Figure size 640x480 with 1 Axes>"
            ]
          },
          "metadata": {},
          "output_type": "display_data"
        }
      ],
      "source": [
        "import matplotlib.pyplot as plt\n",
        "\n",
        "# groupby sentiment and count values\n",
        "counts = df.groupby('textblob').size()\n",
        "\n",
        "# create bar plot\n",
        "plt.bar(counts.index, counts.values)\n",
        "\n",
        "# set axis labels and title\n",
        "plt.xlabel('Sentiment')\n",
        "plt.ylabel('Count')\n",
        "plt.title('Sentiment Analysis')\n",
        "\n",
        "# show plot\n",
        "plt.show()\n"
      ]
    },
    {
      "cell_type": "code",
      "execution_count": null,
      "metadata": {
        "id": "_piwvk0GX4Fd"
      },
      "outputs": [],
      "source": [
        "import matplotlib.pyplot as plt"
      ]
    },
    {
      "cell_type": "code",
      "execution_count": null,
      "metadata": {
        "colab": {
          "base_uri": "https://localhost:8080/",
          "height": 449
        },
        "id": "ENkzRpPpH3Tn",
        "outputId": "9c939bed-9b36-4726-b2d1-6d2d6028a5b4"
      },
      "outputs": [
        {
          "data": {
            "image/png": "[encoded data removed]",
            "text/plain": [
              "<Figure size 640x480 with 1 Axes>"
            ]
          },
          "metadata": {},
          "output_type": "display_data"
        }
      ],
      "source": [
        "values = [0.93, 0.80, 0.72, 0.89]\n",
        "labels = ['SVM', 'NAIVE BAYES', 'LSTM', 'RANDOM FOREST']\n",
        "plt.xlabel('AI Techniques')\n",
        "plt.ylabel('Accuracy score')\n",
        "plt.bar(labels, values)\n",
        "plt.show()"
      ]
    },
    {
      "cell_type": "code",
      "execution_count": null,
      "metadata": {
        "colab": {
          "base_uri": "https://localhost:8080/",
          "height": 449
        },
        "id": "UfMe7IIKILWk",
        "outputId": "ec1e7caf-add8-4606-d648-d97f2397424a"
      },
      "outputs": [
        {
          "data": {
            "image/png": "[encoded data removed]",
            "text/plain": [
              "<Figure size 640x480 with 1 Axes>"
            ]
          },
          "metadata": {},
          "output_type": "display_data"
        }
      ],
      "source": [
        "values = [0.93, 0.81, 0.80, 0.89]\n",
        "labels = ['SVM', 'NAIVE BAYES', 'LSTM', 'RANDOM FOREST']\n",
        "plt.xlabel('AI Techniques')\n",
        "plt.ylabel('F1 score')\n",
        "plt.bar(labels, values)\n",
        "plt.show()"
      ]
    },
    {
      "cell_type": "code",
      "execution_count": null,
      "metadata": {
        "id": "nu_Hk81JIU7Y"
      },
      "outputs": [],
      "source": []
    }
  ],
  "metadata": {
    "colab": {
      "provenance": [],
      "include_colab_link": true
    },
    "kernelspec": {
      "display_name": "Python 3",
      "name": "python3"
    },
    "language_info": {
      "name": "python"
    }
  },
  "nbformat": 4,
  "nbformat_minor": 0
}